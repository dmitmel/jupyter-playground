{
 "cells": [
  {
   "cell_type": "code",
   "execution_count": 1,
   "metadata": {},
   "outputs": [],
   "source": [
    "from sympy import *\n",
    "from IPython.display import display\n",
    "init_printing()\n",
    "x, y = symbols('x y')"
   ]
  },
  {
   "cell_type": "code",
   "execution_count": 2,
   "metadata": {},
   "outputs": [],
   "source": [
    "def sign_(expr):\n",
    "    return (abs(expr) + expr) / (2*expr)\n",
    "\n",
    "def if_(condition, then):\n",
    "    return sign_(condition) * then\n",
    "\n",
    "def and_(*args):\n",
    "    return Mul(*args)"
   ]
  },
  {
   "cell_type": "code",
   "execution_count": 3,
   "metadata": {},
   "outputs": [
    {
     "data": {
      "image/png": "[encoded data removed]",
      "text/latex": [
       "$\\displaystyle \\left[ \\frac{\\left(1 - x\\right) + \\left|{1 - x}\\right|}{2 \\cdot \\left(1 - x\\right)} \\left(x - y\\right) = 1, \\  x \\frac{\\left(y + 1\\right) + \\left|{y + 1}\\right|}{2 \\left(y + 1\\right)} = 1\\right]$"
      ],
      "text/plain": [
       "⎡1 - x + │1 - x│                y + 1 + │y + 1│    ⎤\n",
       "⎢───────────────⋅(x - y) = 1, x⋅─────────────── = 1⎥\n",
       "⎣   2⋅(1 - x)                      2⋅(y + 1)       ⎦"
      ]
     },
     "execution_count": 3,
     "metadata": {},
     "output_type": "execute_result"
    }
   ],
   "source": [
    "equations = []\n",
    "\n",
    "with evaluate(False):\n",
    "#     equations.append(Eq(if_(x + 1, if_(x - 1, y)), 1))\n",
    "    equations.append(Eq(if_(1 - x, x - y), 1))\n",
    "    equations.append(Eq(if_(y + 1, x), 1))\n",
    "\n",
    "equations"
   ]
  },
  {
   "cell_type": "code",
   "execution_count": 4,
   "metadata": {
    "scrolled": false
   },
   "outputs": [
    {
     "data": {
      "text/html": [
       "<!DOCTYPE html>\n",
       "<html>\n",
       "    <head>\n",
       "        <meta charset=\"utf-8\">\n",
       "        <meta name=\"viewport\" content=\"width=device-width, initial-scale=1\">\n",
       "        <script src=\"//www.desmos.com/api/v1.2/calculator.js?apiKey=dcb31709b452b1cf9dc26972add0fda6\"></script>\n",
       "    </head>\n",
       "    <body>\n",
       "        <div id=\"calculator\" style=\"height: 480px;\"></div>\n",
       "    </body>\n",
       "</html>"
      ],
      "text/plain": [
       "<IPython.core.display.HTML object>"
      ]
     },
     "metadata": {},
     "output_type": "display_data"
    },
    {
     "data": {
      "application/javascript": [
       "\n",
       "var element = document.getElementById('calculator');\n",
       "var calculator = Desmos.GraphingCalculator(element, {\n",
       "    keypad: false,\n",
       "//    expressions: false,\n",
       "    pointsOfInterest: false,\n",
       "});\n",
       "calculator.setExpression({ latex: \"\\\\frac{\\\\left(1 - x\\\\right) + \\\\left|{1 - x}\\\\right|}{2 \\\\cdot \\\\left(1 - x\\\\right)} \\\\left(x - y\\\\right) = 1\" });\n",
       "calculator.setExpression({ latex: \"x \\\\frac{\\\\left(y + 1\\\\right) + \\\\left|{y + 1}\\\\right|}{2 \\\\left(y + 1\\\\right)} = 1\" });\n"
      ],
      "text/plain": [
       "<IPython.core.display.Javascript object>"
      ]
     },
     "metadata": {},
     "output_type": "display_data"
    }
   ],
   "source": [
    "import json\n",
    "from IPython.display import HTML, Javascript\n",
    "\n",
    "display(HTML('''<!DOCTYPE html>\n",
    "<html>\n",
    "    <head>\n",
    "        <meta charset=\"utf-8\">\n",
    "        <meta name=\"viewport\" content=\"width=device-width, initial-scale=1\">\n",
    "        <script src=\"//www.desmos.com/api/v1.2/calculator.js?apiKey=dcb31709b452b1cf9dc26972add0fda6\"></script>\n",
    "    </head>\n",
    "    <body>\n",
    "        <div id=\"calculator\" style=\"height: 480px;\"></div>\n",
    "    </body>\n",
    "</html>'''))\n",
    "\n",
    "javascript = '''\n",
    "var element = document.getElementById('calculator');\n",
    "var calculator = Desmos.GraphingCalculator(element, {\n",
    "    keypad: false,\n",
    "//    expressions: false,\n",
    "    pointsOfInterest: false,\n",
    "});\n",
    "'''\n",
    "\n",
    "for expr in equations:\n",
    "    javascript += 'calculator.setExpression({ latex: ' + json.dumps(latex(expr)) + ' });\\n'\n",
    "\n",
    "display(Javascript(javascript))"
   ]
  }
 ],
 "metadata": {
  "kernelspec": {
   "display_name": "Python 3 (ipykernel)",
   "language": "python",
   "name": "python3"
  },
  "language_info": {
   "codemirror_mode": {
    "name": "ipython",
    "version": 3
   },
   "file_extension": ".py",
   "mimetype": "text/x-python",
   "name": "python",
   "nbconvert_exporter": "python",
   "pygments_lexer": "ipython3",
   "version": "3.10.5"
  }
 },
 "nbformat": 4,
 "nbformat_minor": 2
}
