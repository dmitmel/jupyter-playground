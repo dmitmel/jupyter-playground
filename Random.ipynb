{
 "cells": [
  {
   "cell_type": "code",
   "execution_count": 1,
   "metadata": {},
   "outputs": [],
   "source": [
    "import random\n",
    "\n",
    "GROUPS_COUNT = 5\n",
    "CATEGORIES_COUNT = 3\n",
    "\n",
    "groups = [[0] * CATEGORIES_COUNT] * GROUPS_COUNT\n",
    "for i in range(1000):\n",
    "    group = random.choice(groups)\n",
    "    index = random.randint(0, CATEGORIES_COUNT - 1)\n",
    "    group[index] += 1"
   ]
  },
  {
   "cell_type": "code",
   "execution_count": 2,
   "metadata": {},
   "outputs": [
    {
     "data": {
      "image/png": "[encoded data removed]",
      "text/plain": [
       "<Figure size 432x288 with 1 Axes>"
      ]
     },
     "metadata": {
      "needs_background": "light"
     },
     "output_type": "display_data"
    }
   ],
   "source": [
    "%matplotlib inline\n",
    "import matplotlib.pyplot as plt\n",
    "import numpy as np\n",
    "\n",
    "ind = np.arange(CATEGORIES_COUNT)\n",
    "width = 0.25\n",
    "\n",
    "prev_group = [0] * CATEGORIES_COUNT\n",
    "for group in groups:\n",
    "    plt.bar(ind, group, width, bottom=prev_group)\n",
    "    prev_group = [a + b for a, b in zip(prev_group, group)]\n",
    "\n",
    "    average = sum(prev_group) / len(prev_group)\n",
    "    plt.axhline(y=average, color='black')\n",
    "\n",
    "plt.show()"
   ]
  }
 ],
 "metadata": {
  "kernelspec": {
   "display_name": "Python 3 (ipykernel)",
   "language": "python",
   "name": "python3"
  },
  "language_info": {
   "codemirror_mode": {
    "name": "ipython",
    "version": 3
   },
   "file_extension": ".py",
   "mimetype": "text/x-python",
   "name": "python",
   "nbconvert_exporter": "python",
   "pygments_lexer": "ipython3",
   "version": "3.10.5"
  }
 },
 "nbformat": 4,
 "nbformat_minor": 2
}
